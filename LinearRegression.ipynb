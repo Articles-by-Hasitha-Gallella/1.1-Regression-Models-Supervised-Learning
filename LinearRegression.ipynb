{
 "cells": [
  {
   "cell_type": "markdown",
   "metadata": {},
   "source": [
    "Import required libraries"
   ]
  },
  {
   "cell_type": "code",
   "execution_count": 6,
   "metadata": {},
   "outputs": [],
   "source": [
    "import numpy as np \n",
    "import pandas as pd \n",
    "import matplotlib.pyplot as plt \n",
    "from sklearn.model_selection import train_test_split #import a function called \"train test split\" with this function we can easily split our data set into two sets for training and testing "
   ]
  },
  {
   "cell_type": "markdown",
   "metadata": {},
   "source": [
    "Defining the LinearRegression class"
   ]
  },
  {
   "cell_type": "code",
   "execution_count": 16,
   "metadata": {},
   "outputs": [],
   "source": [
    "class LinearRegression(): \n",
    "\n",
    "\t# Constructor function for store the learning rate and no. of iterations \n",
    "\tdef __init__(self, learning_rate, no_of_itr): \n",
    "\t\tself.learning_rate = learning_rate \n",
    "\t\tself.no_of_itr = no_of_itr \n",
    "\n",
    "\tdef fit(self, X, Y): \n",
    "\t\tself.X = X # Training features array stores ax .X attribute\n",
    "\t\tself.Y = Y  # Training target values array stores ay .Y attribute\n",
    "\t\t# m = No. of training examples\n",
    "\t\t# n = no. of features. \n",
    "\t\tself.m, self.n = X.shape\t # Number of rows and columns of X\n",
    "\t\t# Initiating the weight and bias \n",
    "\t\tself.w = np.zeros((self.n, 1)) \n",
    "\t\tself.b = 0\n",
    "\t\t# Implementing the gradient descent. \n",
    "\t\tfor _ in range(self.no_of_itr): \n",
    "\t\t\tself.gradient_descent() \n",
    "\n",
    "\tdef compute_cost(self): \n",
    "\t\t# Implementation of cost function \n",
    "\t\tY_prediction = self.predict(self.X) #f_wb = w*x[i] + b for all 0<i<=m\n",
    "\t\treturn (1/self.m)*np.sum((Y_prediction - self.Y)**2)\n",
    "\t\t\t\n",
    "\tdef gradient_descent(self): \n",
    "\t\tY_prediction = self.predict(self.X) \n",
    "\n",
    "\t\t# Calculating gradients by partial derivatives of cost function\n",
    "\t\tdjdw = (1/self.m)*(self.X.T).dot(Y_prediction-self.Y) \n",
    "\t\tdjdb = (1/self.m)*np.sum(Y_prediction - self.Y)\n",
    "\n",
    "\t\t# repeating the gradient descent for learning parameters \n",
    "\t\tself.w = self.w - self.learning_rate * djdw \n",
    "\t\tself.b = self.b - self.learning_rate * djdb \n",
    "\t\n",
    "\n",
    "\tdef predict(self, X): \n",
    "\t\treturn X.dot(self.w) + self.b \n",
    "\t\t\n",
    "\tdef return_weights(self): \n",
    "\t\treturn self.w, self.b"
   ]
  },
  {
   "cell_type": "markdown",
   "metadata": {},
   "source": [
    "Importing the data set"
   ]
  },
  {
   "cell_type": "code",
   "execution_count": 8,
   "metadata": {},
   "outputs": [
    {
     "data": {
      "text/html": [
       "<div>\n",
       "<style scoped>\n",
       "    .dataframe tbody tr th:only-of-type {\n",
       "        vertical-align: middle;\n",
       "    }\n",
       "\n",
       "    .dataframe tbody tr th {\n",
       "        vertical-align: top;\n",
       "    }\n",
       "\n",
       "    .dataframe thead th {\n",
       "        text-align: right;\n",
       "    }\n",
       "</style>\n",
       "<table border=\"1\" class=\"dataframe\">\n",
       "  <thead>\n",
       "    <tr style=\"text-align: right;\">\n",
       "      <th></th>\n",
       "      <th>YearsExperience</th>\n",
       "      <th>Salary</th>\n",
       "    </tr>\n",
       "  </thead>\n",
       "  <tbody>\n",
       "    <tr>\n",
       "      <th>0</th>\n",
       "      <td>3.3</td>\n",
       "      <td>39425.0</td>\n",
       "    </tr>\n",
       "    <tr>\n",
       "      <th>1</th>\n",
       "      <td>3.5</td>\n",
       "      <td>46182.0</td>\n",
       "    </tr>\n",
       "    <tr>\n",
       "      <th>2</th>\n",
       "      <td>3.7</td>\n",
       "      <td>37817.0</td>\n",
       "    </tr>\n",
       "    <tr>\n",
       "      <th>3</th>\n",
       "      <td>4.2</td>\n",
       "      <td>43590.0</td>\n",
       "    </tr>\n",
       "    <tr>\n",
       "      <th>4</th>\n",
       "      <td>4.4</td>\n",
       "      <td>39960.0</td>\n",
       "    </tr>\n",
       "  </tbody>\n",
       "</table>\n",
       "</div>"
      ],
      "text/plain": [
       "   YearsExperience   Salary\n",
       "0              3.3  39425.0\n",
       "1              3.5  46182.0\n",
       "2              3.7  37817.0\n",
       "3              4.2  43590.0\n",
       "4              4.4  39960.0"
      ]
     },
     "execution_count": 8,
     "metadata": {},
     "output_type": "execute_result"
    }
   ],
   "source": [
    "df = pd.read_csv('Salaries.csv') \n",
    "df.head() "
   ]
  },
  {
   "cell_type": "code",
   "execution_count": 9,
   "metadata": {},
   "outputs": [
    {
     "data": {
      "text/plain": [
       "(29, 2)"
      ]
     },
     "execution_count": 9,
     "metadata": {},
     "output_type": "execute_result"
    }
   ],
   "source": [
    "df.shape "
   ]
  },
  {
   "cell_type": "code",
   "execution_count": 10,
   "metadata": {},
   "outputs": [],
   "source": [
    "X = df['YearsExperience'].values.reshape(-1, 1) \n",
    "y = df['Salary'].values.reshape(-1, 1) "
   ]
  },
  {
   "cell_type": "code",
   "execution_count": 11,
   "metadata": {},
   "outputs": [],
   "source": [
    "X_train,X_test,y_train,y_test=train_test_split(X,y,test_size=0.2) # testing data percentage =0.2 =20%"
   ]
  },
  {
   "cell_type": "code",
   "execution_count": 12,
   "metadata": {},
   "outputs": [
    {
     "data": {
      "text/plain": [
       "array([[ 3.3],\n",
       "       [ 6.2],\n",
       "       [ 5.2],\n",
       "       [ 7.1],\n",
       "       [11.6],\n",
       "       [10.8],\n",
       "       [ 4.2],\n",
       "       [ 7.3],\n",
       "       [10. ],\n",
       "       [ 3.5],\n",
       "       [ 6.2],\n",
       "       [ 8.2],\n",
       "       [ 4.4],\n",
       "       [ 5.4],\n",
       "       [ 6.1],\n",
       "       [ 9.2],\n",
       "       [ 5.9],\n",
       "       [ 8.1],\n",
       "       [ 3.7],\n",
       "       [11.1],\n",
       "       [ 8.9],\n",
       "       [ 6.3],\n",
       "       [11.7]])"
      ]
     },
     "execution_count": 12,
     "metadata": {},
     "output_type": "execute_result"
    }
   ],
   "source": [
    "X_train"
   ]
  },
  {
   "cell_type": "code",
   "execution_count": 17,
   "metadata": {},
   "outputs": [],
   "source": [
    "model = LinearRegression(learning_rate=0.03, \n",
    "\t\t\t\t\t\tno_of_itr=2000) \n",
    "model.fit(X_train, y_train) "
   ]
  },
  {
   "cell_type": "code",
   "execution_count": 18,
   "metadata": {},
   "outputs": [
    {
     "name": "stdout",
     "output_type": "stream",
     "text": [
      "Weights for the respective features are : \n",
      " [[9501.17628501]]\n",
      "Bias value for the regression is  4580.727881897446\n"
     ]
    }
   ],
   "source": [
    "w,b = model.return_weights()\n",
    "print('Weights for the respective features are : \\n'  ,w) \n",
    "print('Bias value for the regression is ', b)"
   ]
  },
  {
   "cell_type": "code",
   "execution_count": 19,
   "metadata": {},
   "outputs": [
    {
     "name": "stdout",
     "output_type": "stream",
     "text": [
      "[[ 56575.]\n",
      " [122292.]\n",
      " [113745.]\n",
      " [ 61057.]\n",
      " [ 54392.]\n",
      " [ 83191.]]\n",
      "[[ 53036.72693543]\n",
      " [122395.31381598]\n",
      " [102442.84361747]\n",
      " [ 68238.60899144]\n",
      " [ 55887.07982093]\n",
      " [ 75839.55001945]]\n"
     ]
    }
   ],
   "source": [
    "Y_predict = model.predict(X_test)\n",
    "print(y_test)\n",
    "print(Y_predict)"
   ]
  },
  {
   "cell_type": "code",
   "execution_count": 20,
   "metadata": {},
   "outputs": [
    {
     "data": {
      "image/png": "[encoded data removed]",
      "text/plain": [
       "<Figure size 640x480 with 1 Axes>"
      ]
     },
     "metadata": {},
     "output_type": "display_data"
    }
   ],
   "source": [
    "plt.scatter(df['YearsExperience'], df['Salary']) \n",
    "plt.xlabel('Years of Experience') \n",
    "plt.ylabel('Salary') \n",
    "plt.title('Years of Experience Vs Salary') \n",
    "w,b = model.return_weights()\n",
    "X = df['YearsExperience'].values \n",
    "plt.plot(X, w[0][0] * X + b) \n",
    "plt.show() "
   ]
  }
 ],
 "metadata": {
  "kernelspec": {
   "display_name": "Python 3",
   "language": "python",
   "name": "python3"
  },
  "language_info": {
   "codemirror_mode": {
    "name": "ipython",
    "version": 3
   },
   "file_extension": ".py",
   "mimetype": "text/x-python",
   "name": "python",
   "nbconvert_exporter": "python",
   "pygments_lexer": "ipython3",
   "version": "3.11.7"
  }
 },
 "nbformat": 4,
 "nbformat_minor": 2
}
